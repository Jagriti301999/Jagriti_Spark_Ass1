{
  "nbformat": 4,
  "nbformat_minor": 0,
  "metadata": {
    "colab": {
      "provenance": []
    },
    "kernelspec": {
      "name": "python3",
      "display_name": "Python 3"
    },
    "language_info": {
      "name": "python"
    }
  },
  "cells": [
    {
      "cell_type": "code",
      "execution_count": 5,
      "metadata": {
        "colab": {
          "base_uri": "https://localhost:8080/"
        },
        "id": "ZX6QNnhY1CEi",
        "outputId": "3ac5785f-2a96-401e-aa54-360408a2e91a"
      },
      "outputs": [
        {
          "output_type": "stream",
          "name": "stdout",
          "text": [
            "root\n",
            " |-- campaign_id: string (nullable = true)\n",
            " |-- campaign_name: string (nullable = true)\n",
            " |-- campaign_country: string (nullable = true)\n",
            " |-- os_type: string (nullable = true)\n",
            " |-- device_type: string (nullable = true)\n",
            " |-- place_id: string (nullable = true)\n",
            " |-- user_id: string (nullable = true)\n",
            " |-- event_type: string (nullable = true)\n",
            " |-- event_time: timestamp (nullable = true)\n",
            "\n",
            "+-----------+--------------------+----------------+-------+-----------+---------+-------------------+----------+-------------------+\n",
            "|campaign_id|       campaign_name|campaign_country|os_type|device_type| place_id|            user_id|event_type|         event_time|\n",
            "+-----------+--------------------+----------------+-------+-----------+---------+-------------------+----------+-------------------+\n",
            "|    ABCDFAE|Food category tar...|             USA|    ios|      apple|CASSBB-11|1264374214654454321|impression|2018-10-12 13:10:05|\n",
            "|    ABCDFAE|Food category tar...|             USA|android|   MOTOROLA|CADGBD-13|1674374214654454321|impression|2018-10-12 13:09:04|\n",
            "|    ABCDFAE|Food category tar...|             USA|android|    SAMSUNG|BADGBA-12|   5747421465445443|  video ad|2018-10-12 13:10:10|\n",
            "|    ABCDFAE|Food category tar...|             USA|android|    SAMSUNG|CASSBB-11|1864374214654454132|     click|2018-10-12 13:10:12|\n",
            "+-----------+--------------------+----------------+-------+-----------+---------+-------------------+----------+-------------------+\n",
            "\n",
            "root\n",
            " |-- user_id: string (nullable = true)\n",
            " |-- country: string (nullable = true)\n",
            " |-- gender: string (nullable = true)\n",
            " |-- age_group: string (nullable = true)\n",
            " |-- category: array (nullable = true)\n",
            " |    |-- element: string (containsNull = true)\n",
            "\n",
            "+-------------------+-------+------+---------+--------------------+\n",
            "|            user_id|country|gender|age_group|            category|\n",
            "+-------------------+-------+------+---------+--------------------+\n",
            "|1264374214654454321|    USA|  male|    18-25|  [shopper, student]|\n",
            "|1674374214654454321|    USA|female|    25-50|            [parent]|\n",
            "|   5747421465445443|    USA|  male|    25-50|[shopper, parent,...|\n",
            "|1864374214654454132|    USA|  male|      50+|      [professional]|\n",
            "|  14537421465445443|    USA|female|    18-25|  [shopper, student]|\n",
            "+-------------------+-------+------+---------+--------------------+\n",
            "only showing top 5 rows\n",
            "\n",
            "root\n",
            " |-- store_name: string (nullable = true)\n",
            " |-- place_ids: array (nullable = true)\n",
            " |    |-- element: string (containsNull = true)\n",
            "\n",
            "+-------------+--------------------+\n",
            "|   store_name|           place_ids|\n",
            "+-------------+--------------------+\n",
            "|     McDonald|[CASSBB-11, CADGB...|\n",
            "|   BurgerKing|         [CASSBB-11]|\n",
            "|        Macys|[BADGBA-13, CASSB...|\n",
            "|shoppers stop|         [BADGBA-12]|\n",
            "+-------------+--------------------+\n",
            "\n",
            "root\n",
            " |-- user_id: string (nullable = true)\n",
            " |-- country: string (nullable = true)\n",
            " |-- gender: string (nullable = true)\n",
            " |-- age_group: string (nullable = true)\n",
            " |-- category: array (nullable = true)\n",
            " |    |-- element: string (containsNull = true)\n",
            "\n",
            "+-------------------+-------+------+---------+--------------------+\n",
            "|            user_id|country|gender|age_group|            category|\n",
            "+-------------------+-------+------+---------+--------------------+\n",
            "|1264374214654454321|    USA|  male|    18-25|  [shopper, student]|\n",
            "|1674374214654454321|    USA|female|    25-50|            [parent]|\n",
            "|   5747421465445443|    USA|  male|    25-50|[shopper, parent,...|\n",
            "|1864374214654454132|    USA|  male|      50+|      [professional]|\n",
            "|  14537421465445443|    USA|female|    18-25|  [shopper, student]|\n",
            "+-------------------+-------+------+---------+--------------------+\n",
            "only showing top 5 rows\n",
            "\n",
            "root\n",
            " |-- store_name: string (nullable = true)\n",
            " |-- place_ids: array (nullable = true)\n",
            " |    |-- element: string (containsNull = true)\n",
            "\n",
            "+-------------+--------------------+\n",
            "|   store_name|           place_ids|\n",
            "+-------------+--------------------+\n",
            "|     McDonald|[CASSBB-11, CADGB...|\n",
            "|   BurgerKing|         [CASSBB-11]|\n",
            "|        Macys|[BADGBA-13, CASSB...|\n",
            "|shoppers stop|         [BADGBA-12]|\n",
            "+-------------+--------------------+\n",
            "\n"
          ]
        }
      ],
      "source": [
        "from pyspark.sql import SparkSession\n",
        "from pyspark.sql import functions as F\n",
        "from pyspark.sql.types import StructType, StructField, StringType, TimestampType, ArrayType\n",
        "\n",
        "spark = SparkSession.builder \\\n",
        "    .appName(\"Spark with Hive\") \\\n",
        "    .enableHiveSupport() \\\n",
        "    .getOrCreate()\n",
        "\n",
        "schema_campaign=StructType([\n",
        "                         StructField(\"campaign_id\",StringType(),True),\n",
        "                         StructField(\"campaign_name\",StringType(),True),\n",
        "                         StructField(\"campaign_country\",StringType(),True),\n",
        "                         StructField(\"os_type\",StringType(),True),\n",
        "                         StructField(\"device_type\",StringType(),True),\n",
        "                         StructField(\"place_id\",StringType(),True),\n",
        "                         StructField(\"user_id\",StringType(),True),\n",
        "                         StructField(\"event_type\",StringType(),True),\n",
        "                         StructField(\"event_time\",TimestampType(),True)\n",
        "                          ])\n",
        "df_campaign = spark.read.option(\"multiline\", \"true\").schema(schema_campaign).json(\"/content/ad_campaign_data.json\")\n",
        "#df_campaign = spark.read.option(\"multiline\", \"true\").json(\"/ad_campaign_data.json\")\n",
        "\n",
        "schema_users = StructType([\n",
        "    StructField(\"user_id\", StringType(), True),\n",
        "    StructField(\"country\", StringType(), True),\n",
        "    StructField(\"gender\", StringType(), True),\n",
        "    StructField(\"age_group\", StringType(), True),\n",
        "    StructField(\"category\", ArrayType(StringType()), True)\n",
        "])\n",
        "\n",
        "df_users = spark.read.option(\"multiline\", \"true\").schema(schema_users).json(\"/content/user_profile_data.json\")\n",
        "\n",
        "schema_stores = StructType([\n",
        "    StructField(\"store_name\", StringType(), True),\n",
        "    StructField(\"place_ids\", ArrayType(StringType()), True)\n",
        "])\n",
        "df_stores = spark.read.option(\"multiline\", \"true\").schema(schema_stores).json(\"/content/store_data.json\")\n",
        "#df_stores = spark.read.option(\"multiline\", \"true\").json(\"/store_data.json\")\n",
        "\n",
        "df_campaign.printSchema()\n",
        "df_campaign.show(5)\n",
        "\n",
        "\n",
        "#df_campaigns = spark.read.format('json').option(\"multiline\", \"true\").schema(schema_campaign).load(hdfs_path1)\n",
        "#df_users = spark.read.format('json').option(\"multiline\", \"true\").schema(schema_users).load(hdfs_path2)\n",
        "#df_stores = spark.read.format('json').option(\"multiline\", \"true\").schema(schema_stores).load(hdfs_path3)\n",
        "\n",
        "df_users.printSchema()\n",
        "df_users.show(5)\n",
        "\n",
        "df_stores.printSchema()\n",
        "df_stores.show(5)\n",
        "\n",
        "\n",
        "df_users.printSchema()\n",
        "df_users.show(5)\n",
        "\n",
        "df_stores.printSchema()\n",
        "df_stores.show(5)"
      ]
    },
    {
      "cell_type": "code",
      "source": [
        "# Extract date and hour from the event_time column\n",
        "df_campaigns = df_campaign.withColumn(\"event_time\", F.col(\"event_time\").cast(\"timestamp\"))\n",
        "df_campaigns = df_campaigns.withColumn(\"date\", F.to_date(\"event_time\"))\n",
        "df_campaigns = df_campaigns.withColumn(\"hour\", F.hour(\"event_time\"))"
      ],
      "metadata": {
        "id": "KByC2Rag1sNv"
      },
      "execution_count": 7,
      "outputs": []
    },
    {
      "cell_type": "code",
      "source": [
        "# Q1. Analyze data for each campaign_id, date, hour, os_type & value to get all the events with counts\n",
        "result_q1 = (\n",
        "    df_campaigns.groupBy(\"campaign_id\", \"date\", \"hour\", \"os_type\", \"event_type\")\n",
        "    .agg(F.count(\"event_type\").alias(\"event_count\"))\n",
        "    .groupBy(\"campaign_id\", \"date\", \"hour\", \"os_type\")\n",
        "    .pivot(\"event_type\")\n",
        "    .agg(F.first(\"event_count\"))\n",
        "    .fillna(0)\n",
        "    .select(\n",
        "        \"campaign_id\",\n",
        "        \"date\",\n",
        "        \"hour\",\n",
        "        \"os_type\",\n",
        "        F.struct(\n",
        "            F.col(\"impression\").alias(\"impression\"),\n",
        "            F.col(\"click\").alias(\"click\"),\n",
        "            F.col(\"video ad\").alias(\"video_ad\"),\n",
        "        ).alias(\"event\"),\n",
        "    )\n",
        ")\n",
        "result_q1.show()\n"
      ],
      "metadata": {
        "colab": {
          "base_uri": "https://localhost:8080/"
        },
        "id": "boWTsCBI10XC",
        "outputId": "93390839-97aa-4f96-b47e-d6a57c200794"
      },
      "execution_count": 9,
      "outputs": [
        {
          "output_type": "stream",
          "name": "stdout",
          "text": [
            "+-----------+----------+----+-------+---------+\n",
            "|campaign_id|      date|hour|os_type|    event|\n",
            "+-----------+----------+----+-------+---------+\n",
            "|    ABCDFAE|2018-10-12|  13|android|{1, 1, 1}|\n",
            "|    ABCDFAE|2018-10-12|  13|    ios|{1, 0, 0}|\n",
            "+-----------+----------+----+-------+---------+\n",
            "\n"
          ]
        }
      ]
    },
    {
      "cell_type": "code",
      "source": [
        "# Q2. Analyze data for each campaign_id, date, hour, store_name & value to get all the events with counts\n",
        "\n",
        "(df_campaigns.join(df_stores, F.array_contains(df_stores.place_ids, df_campaigns.place_id), \"inner\")\n",
        "#df_stores.place_ids is an array containing multiple place_ids.df_campaigns.place_id is a single value.\n",
        "#F.array_contains(df_stores.place_ids, df_campaigns.place_id) checks if place_id from df_campaigns is in the place_ids array of df_stores.\n",
        "\n",
        ".groupBy(\"campaign_id\", \"date\", \"hour\", \"store_name\",\"event_type\")\n",
        "#Counts the occurrences of each event_type for the group and stores the result in a new column, event_count\n",
        "\n",
        ".agg(F.count(\"event_type\").alias(\"event_count\"))\n",
        ".groupBy(\"campaign_id\", \"date\", \"hour\", \"store_name\") #Groups by the same fields except for event_type.\n",
        " #Converts unique values of event_type (e.g., impression, click, video ad) into separate columns.\n",
        "\n",
        " #The result is a table where each event_type becomes a column with its corresponding count\n",
        ".pivot(\"event_type\")\n",
        ".agg(F.first(\"event_count\")) #Retrieves the first (or only) value of event_count for each pivoted column\n",
        ".fillna(0)\n",
        "\n",
        " #Creates a new column, event, as a struct containing:\n",
        "#impression: Count of impression events.\n",
        "#click: Count of click events.\n",
        "#video ad: Count of video ad events.\n",
        ".select(\n",
        "    \"campaign_id\",\n",
        "    \"date\",\n",
        "    \"hour\",\n",
        "    \"store_name\",\n",
        "    F.struct(\n",
        "        F.col(\"impression\").alias(\"impression\"),\n",
        "        F.col(\"video ad\").alias(\"video_ad\"),\n",
        "        F.col(\"Click\").alias(\"click\")\n",
        "    ).alias(\"event\"),\n",
        ")).show()\n",
        "\n",
        "\n"
      ],
      "metadata": {
        "colab": {
          "base_uri": "https://localhost:8080/"
        },
        "id": "nXYJVzw42DDq",
        "outputId": "cea8d571-b61c-46c4-cd15-841ab40aea69"
      },
      "execution_count": 22,
      "outputs": [
        {
          "output_type": "stream",
          "name": "stdout",
          "text": [
            "+-----------+----------+----+-------------+---------+\n",
            "|campaign_id|      date|hour|   store_name|    event|\n",
            "+-----------+----------+----+-------------+---------+\n",
            "|    ABCDFAE|2018-10-12|  13|   BurgerKing|{1, 0, 1}|\n",
            "|    ABCDFAE|2018-10-12|  13|     McDonald|{2, 0, 1}|\n",
            "|    ABCDFAE|2018-10-12|  13|shoppers stop|{0, 1, 0}|\n",
            "+-----------+----------+----+-------------+---------+\n",
            "\n"
          ]
        }
      ]
    },
    {
      "cell_type": "code",
      "source": [
        "# Q3. Analyze data for each campaign_id, date, hour, gender_type & value to get all the events with counts\n",
        "\n",
        "(\n",
        "df_campaigns.join(df_users,\"user_id\",\"inner\")\n",
        ".groupBy(\"campaign_id\", \"date\", \"hour\", \"gender\",\"event_type\")\n",
        ".agg(F.count(\"event_type\").alias(\"event_count\"))\n",
        ".groupBy(\"campaign_id\",\"date\",\"hour\",\"gender\")\n",
        ".pivot(\"event_type\")\n",
        ".agg(F.first(\"event_count\"))\n",
        ".fillna(0)\n",
        ".select(\n",
        "    \"campaign_id\",\n",
        "    \"date\",\n",
        "    \"hour\",\n",
        "    \"gender\",\n",
        "    F.struct(\n",
        "        F.col(\"impression\").alias(\"Impression\"),\n",
        "        F.col(\"video ad\").alias(\"Video_Ad\"),\n",
        "        F.col(\"click\").alias(\"Click\"),\n",
        "    ).alias(\"event\"),\n",
        ")\n",
        ").show()"
      ],
      "metadata": {
        "colab": {
          "base_uri": "https://localhost:8080/"
        },
        "id": "sxRnrjaK5s_E",
        "outputId": "cc994216-bc9f-4d94-a353-6ed633af56a2"
      },
      "execution_count": 33,
      "outputs": [
        {
          "output_type": "stream",
          "name": "stdout",
          "text": [
            "+-----------+----------+----+------+---------+\n",
            "|campaign_id|      date|hour|gender|    event|\n",
            "+-----------+----------+----+------+---------+\n",
            "|    ABCDFAE|2018-10-12|  13|  male|{1, 1, 1}|\n",
            "|    ABCDFAE|2018-10-12|  13|female|{1, 0, 0}|\n",
            "+-----------+----------+----+------+---------+\n",
            "\n"
          ]
        }
      ]
    },
    {
      "cell_type": "code",
      "source": [],
      "metadata": {
        "id": "ZUdErAUb2Abd"
      },
      "execution_count": null,
      "outputs": []
    }
  ]
}